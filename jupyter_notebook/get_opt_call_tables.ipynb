{
 "cells": [
  {
   "cell_type": "code",
   "execution_count": null,
   "id": "94e812fb",
   "metadata": {},
   "outputs": [],
   "source": [
    "# Set dependencies\n",
    "import yfinance as yf\n",
    "import pandas as pd\n",
    "import numpy as np\n",
    "import os\n",
    "import datetime\n",
    "\n",
    "tickers = ['AAPL','AMGN','AXP','BA','CAT','CRM','CSCO','CVX','DIS','DOW',\n",
    "            'GS','HD','HON','IBM','INTC','JNJ','JPM','KO','MCD','MMM','MRK','MSFT',\n",
    "            'NKE','PG','TRV','UNH','V','VZ','WBA','WMT']\n",
    "\n",
    "for ticker in tickers:\n",
    "    exp_dates = yf.Ticker(ticker).options\n",
    "    for date in exp_dates:\n",
    "        try:\n",
    "            opt_call_df = yf.Ticker(ticker).option_chain(date).calls\n",
    "            split = opt_call_df['contractSymbol'].str.split(r'\\d+',expand=True)\n",
    "            ticker_sym = split[0]\n",
    "            call_put = split[1]\n",
    "            opt_call_df['ticker']=ticker_sym\n",
    "            opt_call_df['call_put']=call_put\n",
    "            opt_call_df['exp_date'] = opt_call_df['contractSymbol'].str.split('C').str[0]\n",
    "            opt_call_df['exp_date'] = opt_call_df['exp_date'].str.extract('(\\d+)',expand=False)\n",
    "            opt_call_df['exp_date'] = pd.to_datetime(opt_call_df['exp_date'],yearfirst=True)\n",
    "            opt_call_df.to_csv(f\"Resources/opt_calls/{ticker}_calls_{date}.csv\", index=False)\n",
    "        except ValueError:\n",
    "            print(f\"No Call Option Chain for {ticker}_{date}\")\n",
    "        except AttributeError:\n",
    "            print(f\"AttributeError for {ticker}_{date}\")"
   ]
  }
 ],
 "metadata": {
  "kernelspec": {
   "display_name": "mlenv",
   "language": "python",
   "name": "mlenv"
  },
  "language_info": {
   "codemirror_mode": {
    "name": "ipython",
    "version": 3
   },
   "file_extension": ".py",
   "mimetype": "text/x-python",
   "name": "python",
   "nbconvert_exporter": "python",
   "pygments_lexer": "ipython3",
   "version": "3.7.11"
  }
 },
 "nbformat": 4,
 "nbformat_minor": 5
}
